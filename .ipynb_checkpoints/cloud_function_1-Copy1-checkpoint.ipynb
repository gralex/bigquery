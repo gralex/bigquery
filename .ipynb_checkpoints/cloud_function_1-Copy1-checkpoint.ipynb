{
 "cells": [
  {
   "cell_type": "code",
   "execution_count": 3,
   "id": "e2a0f1e5",
   "metadata": {},
   "outputs": [
    {
     "ename": "ModuleNotFoundError",
     "evalue": "No module named 'gspread'",
     "output_type": "error",
     "traceback": [
      "\u001b[0;31m---------------------------------------------------------------------------\u001b[0m",
      "\u001b[0;31mModuleNotFoundError\u001b[0m                       Traceback (most recent call last)",
      "Cell \u001b[0;32mIn[3], line 1\u001b[0m\n\u001b[0;32m----> 1\u001b[0m \u001b[38;5;28;01mimport\u001b[39;00m \u001b[38;5;21;01mgspread\u001b[39;00m\n\u001b[1;32m      2\u001b[0m \u001b[38;5;28;01mfrom\u001b[39;00m \u001b[38;5;21;01mgoogle\u001b[39;00m\u001b[38;5;21;01m.\u001b[39;00m\u001b[38;5;21;01moauth2\u001b[39;00m \u001b[38;5;28;01mimport\u001b[39;00m service_account\n\u001b[1;32m      4\u001b[0m \u001b[38;5;28;01mdef\u001b[39;00m \u001b[38;5;21mread_google_sheets\u001b[39m(request):\n",
      "\u001b[0;31mModuleNotFoundError\u001b[0m: No module named 'gspread'"
     ]
    }
   ],
   "source": [
    "import gspread\n",
    "from google.oauth2 import service_account\n",
    "\n",
    "def read_google_sheets(request):\n",
    "    request_json = request.get_json()\n",
    "    if 'spreadsheet_id' not in request_json:\n",
    "        return 'Missing spreadsheet_id parameter', 400\n",
    "\n",
    "    spreadsheet_id = request_json['spreadsheet_id']\n",
    "    credentials = service_account.Credentials.from_service_account_file('bigquery_credits.json')  # Replace with the path to your service account JSON key file\n",
    "\n",
    "    # Read the Google Sheets document\n",
    "    gc = gspread.authorize(credentials)\n",
    "    spreadsheet = gc.open_by_key(spreadsheet_id)\n",
    "    worksheet = spreadsheet.sheet1\n",
    "    table_range = worksheet.get_all_values()\n",
    "\n",
    "    # Get column indices\n",
    "    headers = table_range[0]\n",
    "    id_col = headers.index('id')\n",
    "    project_name_col = headers.index('project_name')\n",
    "    project_start_col = headers.index('project_start')\n",
    "    bq_project_id_col = headers.index('bq_project_id')\n",
    "    bq_dataset_name_col = headers.index('bq_dataset_name')\n",
    "\n",
    "    # Extract table data\n",
    "    table_data = []\n",
    "    for row in table_range[1:]:\n",
    "        table_data.append({\n",
    "            'id': row[id_col],\n",
    "            'project_name': row[project_name_col],\n",
    "            'project_start': row[project_start_col],\n",
    "            'bq_project_id': row[bq_project_id_col],\n",
    "            'bq_dataset_name': row[bq_dataset_name_col]\n",
    "        })\n",
    "\n",
    "    # Process the extracted table data (e.g., perform desired operations)\n",
    "\n",
    "    return {\n",
    "        'table_data': table_data\n",
    "    }, 200\n"
   ]
  }
 ],
 "metadata": {
  "kernelspec": {
   "display_name": "Python 3 (ipykernel)",
   "language": "python",
   "name": "python3"
  },
  "language_info": {
   "codemirror_mode": {
    "name": "ipython",
    "version": 3
   },
   "file_extension": ".py",
   "mimetype": "text/x-python",
   "name": "python",
   "nbconvert_exporter": "python",
   "pygments_lexer": "ipython3",
   "version": "3.10.12"
  }
 },
 "nbformat": 4,
 "nbformat_minor": 5
}
